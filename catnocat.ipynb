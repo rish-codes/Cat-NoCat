{
 "cells": [
  {
   "cell_type": "code",
   "execution_count": 22,
   "metadata": {
    "collapsed": true,
    "pycharm": {
     "name": "#%%\n"
    }
   },
   "outputs": [],
   "source": [
    "import numpy as np\n",
    "import matplotlib.pyplot as plt\n",
    "import h5py\n",
    "import  scipy\n",
    "from PIL import Image\n",
    "from scipy import ndimage\n",
    "\n",
    "%matplotlib inline"
   ]
  },
  {
   "cell_type": "markdown",
   "source": [
    "Loading the dataset into variables. I appended \"_orig\" to the image datasets as I will preprocess them later."
   ],
   "metadata": {
    "collapsed": false,
    "pycharm": {
     "name": "#%% md\n"
    }
   }
  },
  {
   "cell_type": "code",
   "execution_count": 23,
   "outputs": [],
   "source": [
    "train_dataset = h5py.File('Data/train_catvnoncat.h5', \"r\")\n",
    "train_set_x_orig = np.array(train_dataset[\"train_set_x\"][:])\n",
    "train_set_y = np.array(train_dataset[\"train_set_y\"][:])\n",
    "\n",
    "test_dataset = h5py.File('Data/test_catvnoncat.h5', \"r\")\n",
    "test_set_x_orig = np.array(test_dataset[\"test_set_x\"][:])\n",
    "test_set_y = np.array(test_dataset[\"test_set_y\"][:])\n",
    "\n",
    "classes = np.array(test_dataset[\"list_classes\"][:])\n",
    "\n",
    "# print(train_set_y.shape)\n",
    "# print(test_set_y.shape)\n",
    "train_set_y= train_set_y.reshape(1, train_set_y.shape[0])\n",
    "test_set_y = test_set_y.reshape(1, test_set_y.shape[0])\n",
    "# print(train_set_y.shape)\n",
    "# print(test_set_y.shape)"
   ],
   "metadata": {
    "collapsed": false,
    "pycharm": {
     "name": "#%%\n"
    }
   }
  },
  {
   "cell_type": "markdown",
   "source": [
    "Each line of train_set_x_orig and test_set_x_orig is an array representing an image. Visualizing it with the following code.\n"
   ],
   "metadata": {
    "collapsed": false,
    "pycharm": {
     "name": "#%% md\n"
    }
   }
  },
  {
   "cell_type": "code",
   "execution_count": 24,
   "outputs": [
    {
     "name": "stdout",
     "output_type": "stream",
     "text": [
      "y = [1]. It's a cat picture.\n"
     ]
    },
    {
     "data": {
      "text/plain": "<Figure size 432x288 with 1 Axes>",
      "image/png": "[encoded data removed]"
     },
     "metadata": {
      "needs_background": "light"
     },
     "output_type": "display_data"
    }
   ],
   "source": [
    "index = 135\n",
    "plt.imshow(train_set_x_orig[index])\n",
    "print('y = ' + str(train_set_y[:, index]) + \". It's a \" + str(classes[np.squeeze(train_set_y[:, index])].decode(\"utf-8\")) + \" picture.\" )"
   ],
   "metadata": {
    "collapsed": false,
    "pycharm": {
     "name": "#%%\n"
    }
   }
  },
  {
   "cell_type": "markdown",
   "source": [
    "Flattening _Numpy_ RGB array of shape (pix, pix, 3) to a single vector of shape (pix * pix * 3, 1). Then we transpose this to to obtain a _numpy_ array where every column represents a flattened image.\n",
    "\n",
    "Passing _-1_ as a parameter means numpy will figure out the dimensions by looking at the 'length of the array and remaining dimensions' and making sure that the new shape is compatible with the original shape."
   ],
   "metadata": {
    "collapsed": false
   }
  },
  {
   "cell_type": "code",
   "execution_count": 25,
   "outputs": [],
   "source": [
    "# print(train_set_x_orig.shape)\n",
    "# print(test_set_x_orig.shape)\n",
    "train_set_x_reshaped = train_set_x_orig.reshape(train_set_x_orig.shape[0], -1).T\n",
    "test_set_x_reshaped = test_set_x_orig.reshape(test_set_x_orig.shape[0], -1).T\n",
    "# print(train_set_x_reshaped.shape)\n",
    "# print(test_set_x_reshaped.shape)"
   ],
   "metadata": {
    "collapsed": false,
    "pycharm": {
     "name": "#%%\n"
    }
   }
  },
  {
   "cell_type": "markdown",
   "source": [
    "A common preprocessing step in machine learning is to center and standardize your dataset, meaning that you subtract the mean of the whole numpy array from each example, and then divide each example by the standard deviation of the whole numpy array. But for image datasets we can just divide every row by 255 as it is the maximum value of a pixel channel."
   ],
   "metadata": {
    "collapsed": false,
    "pycharm": {
     "name": "#%% md\n"
    }
   }
  },
  {
   "cell_type": "code",
   "execution_count": 26,
   "outputs": [],
   "source": [
    "train_set_x = train_set_x_reshaped/255\n",
    "test_set_x = test_set_x_reshaped/255"
   ],
   "metadata": {
    "collapsed": false,
    "pycharm": {
     "name": "#%%\n"
    }
   }
  }
 ],
 "metadata": {
  "kernelspec": {
   "display_name": "Python 3",
   "language": "python",
   "name": "python3"
  },
  "language_info": {
   "codemirror_mode": {
    "name": "ipython",
    "version": 2
   },
   "file_extension": ".py",
   "mimetype": "text/x-python",
   "name": "python",
   "nbconvert_exporter": "python",
   "pygments_lexer": "ipython2",
   "version": "2.7.6"
  }
 },
 "nbformat": 4,
 "nbformat_minor": 0
}